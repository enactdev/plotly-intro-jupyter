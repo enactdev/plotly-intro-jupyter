{
 "cells": [
  {
   "cell_type": "markdown",
   "metadata": {},
   "source": [
    "Let's make that last visualization look nicer. We're still using the [Aerial Waterfowl Survey Data](https://data.delaware.gov/Energy-and-Environment/Aerial-Waterfowl-Survey-Data/bxyv-7mgn). \n"
   ]
  },
  {
   "cell_type": "code",
   "execution_count": null,
   "metadata": {},
   "outputs": [],
   "source": [
    "# Import our libraries\n",
    "import pandas as pd\n",
    "\n",
    "import plotly.offline as offline\n",
    "import plotly.graph_objs as go\n",
    "\n",
    "# We're using json this time!\n",
    "import json\n",
    "\n",
    "# Run this in offline mode\n",
    "offline.init_notebook_mode()\n"
   ]
  },
  {
   "cell_type": "code",
   "execution_count": null,
   "metadata": {},
   "outputs": [],
   "source": [
    "# Run the transformations from before to make sure everyone is \n",
    "# at the same place.\n",
    "url = \"https://data.delaware.gov/api/views/bxyv-7mgn/rows.csv?accessType=DOWNLOAD\"\n",
    "waterfowl_df = pd.read_csv(url)\n",
    "waterfowl_df_january = waterfowl_df[waterfowl_df['Month']=='January']\n",
    "waterfowl_df_january_sub = waterfowl_df_january[waterfowl_df_january['Time Period']!='Late']\n",
    "\n",
    "waterfowl_df_january_sub_by_year = waterfowl_df_january_sub.groupby('Year').sum()\n",
    "\n",
    "years = [str(year) for year in waterfowl_df_january_sub_by_year.index]\n"
   ]
  },
  {
   "cell_type": "code",
   "execution_count": null,
   "metadata": {
    "scrolled": false
   },
   "outputs": [],
   "source": [
    "# Now let's plot the top three.\n",
    "# This is creating the same chart as before, but options to go.Scatter each have their own line and \n",
    "# the layout is being created from a dictionary (our first step toward displaying in Javascript!)\n",
    "\n",
    "bird_names = ['Canada Goose', 'American Black Duck', 'Mallard']\n",
    "\n",
    "data = []\n",
    "\n",
    "for bird_name in bird_names:\n",
    "    \n",
    "    single_bird = waterfowl_df_january_sub[['Year', bird_name]].groupby('Year').sum()\n",
    "\n",
    "    bird_counts = [int(total) for total in single_bird[bird_name]]\n",
    "    \n",
    "    # Cheat and re-usse the years variable from before\n",
    "    data.append(\n",
    "        go.Scatter(\n",
    "            x=years, \n",
    "            y=bird_counts, \n",
    "            mode=\"markers+lines\", \n",
    "            name=bird_name\n",
    "        )\n",
    "    )\n",
    "\n",
    "layout_dict = {\n",
    "    'title': \"Top three birds\", \n",
    "    'xaxis':{'title':'Year'}, \n",
    "    'yaxis':{'title':'Number counted'}\n",
    "}\n",
    "\n",
    "layout=go.Layout(layout_dict)\n",
    "\n",
    "\n",
    "figure=go.Figure(data=data,layout=layout)\n",
    "\n",
    "offline.iplot(figure, filename='top_three')"
   ]
  },
  {
   "cell_type": "markdown",
   "metadata": {},
   "source": [
    "### Things to think about:\n",
    "\n",
    "Before diving into Plotly's documentation, is there anything in the block above that you want to edit and test?\n",
    "\n",
    "How can you make the Title more descriptive? \n",
    "\n",
    "How can you edit the order of the birds in the legend on the right of the graph?\n",
    "\n",
    "Notice how mode is set to \"markers+lines\"? What happens if you make it just \"markers\" or \"lines\"?\n",
    "\n",
    "How would you change the hover text? Seeing \"123.431K\" looks weird (Canada Goose, 2001)\n",
    "\n"
   ]
  },
  {
   "cell_type": "markdown",
   "metadata": {},
   "source": [
    "### How to add your own flair to the chart above\n",
    "\n",
    "To see what options there are to make Plotly look nicer, checkout [the documentation for Scatter](https://plot.ly/python/line-and-scatter/). \n",
    "\n",
    "There's a lot there! And it's hard to picture how most of the options will change the graph... \n",
    "\n",
    "I recommend looking at these options: hoverinfo, hovertext, line, marker\n",
    "\n",
    "\n",
    "\"Style\" is inherently subjective, but to get a feel for best practices consult a style guide. Personally I like the [Sunlight Foundation's](https://github.com/amycesal/dataviz-style-guide/blob/master/Sunlight-StyleGuide-DataViz.pdf), but it's a PDF. This one by the [Uban Institute](http://urbaninstitute.github.io/graphics-styleguide/) is a good one to read in a browser.\n",
    "\n",
    "Note: We're jumping ahead to just the variables for Scatter. To get a general overview of ploty, read the [user guide](https://plot.ly/python/user-guide/).\n",
    "\n",
    "When you're ready, explore the ['Basic Charts' section of the Python documentation](https://plot.ly/python/).\n"
   ]
  },
  {
   "cell_type": "markdown",
   "metadata": {},
   "source": [
    "### Make your changes!\n",
    "\n",
    "Below is the same chart as above, but the code is different! The line chart options are now using a Python dictionary \n",
    "just like the layout options above. I also made the chart name more descriptive. The format() method replaces the '{}' placeholders in the text with variables passed to it. [Learn more about .format() in the documentation](https://docs.python.org/2/library/string.html#format-string-syntax).\n",
    "\n",
    "Note the addtion of a new chart option in the dictionary. This will be needed by the Javascript: 'type':'scatter'\n"
   ]
  },
  {
   "cell_type": "code",
   "execution_count": null,
   "metadata": {},
   "outputs": [],
   "source": [
    "# ***** This cell requires you to fill something in! *****\n",
    "\n",
    "# Edit this function to change the style of the chart!\n",
    "\n",
    "def return_data_dictionary(years, bird_counts, bird_name):\n",
    "    return {\n",
    "        # Add to these options to make your own chart\n",
    "        \n",
    "        'type':'scatter',\n",
    "        'x':years, \n",
    "        'y':bird_counts, \n",
    "        'mode':\"markers+lines\", \n",
    "        'name':bird_name\n",
    "    }\n",
    "\n",
    "bird_names = ['Canada Goose', 'American Black Duck', 'Mallard']\n",
    "\n",
    "# We'll use this variable to create our Javascript graph, but first we'll use it create our Python one!\n",
    "pre_json_dictionary = {\n",
    "    'data': []\n",
    "}\n",
    "\n",
    "for bird_name in bird_names:\n",
    "    \n",
    "    single_bird = waterfowl_df_january_sub[['Year', bird_name]].groupby('Year').sum()\n",
    "\n",
    "    bird_counts = [int(total) for total in single_bird[bird_name]]\n",
    "    \n",
    "    # Append our dictionary to the data list\n",
    "    pre_json_dictionary['data'].append(return_data_dictionary(years, bird_counts, bird_name))\n",
    "\n",
    "\n",
    "pre_json_dictionary['layout'] = {\n",
    "    'title': '{} from {} to {}'.format(', '.join(bird_names), years[0], years[-1]), \n",
    "    'xaxis':{'title':'Year'}, \n",
    "    'yaxis':{'title':'Number counted'}\n",
    "}\n",
    "\n",
    "figure=go.Figure(data=pre_json_dictionary['data'],layout=pre_json_dictionary['layout'])\n",
    "\n",
    "offline.iplot(figure, filename='top_three')\n"
   ]
  },
  {
   "cell_type": "markdown",
   "metadata": {},
   "source": [
    "It's time move this graph to Javascript! You can checkout how I updated my chart in the completed/ directory.\n",
    "\n",
    "Note: If you haven't done so, I recommend playing with the line options: shape, spline, smoothing, width\n",
    "...and the marker options: size, opacity\n"
   ]
  },
  {
   "cell_type": "code",
   "execution_count": null,
   "metadata": {},
   "outputs": [],
   "source": [
    "# This is how we'll display the chart in Javascript.\n",
    "\n",
    "# Copy the output below, from first '{' to the last '}' \n",
    "\n",
    "print(json.dumps(pre_json_dictionary))"
   ]
  },
  {
   "cell_type": "markdown",
   "metadata": {},
   "source": [
    "\n",
    "If you haven't already done so, [fork my Gist](https://gist.github.com/enactdev/2c45cfa8456fde957898c619ec489cf7)!\n",
    "\n",
    "(After logging into GitHub, click on 'fork' in the upper right.)\n",
    "\n",
    "Edit the Gist (button in upper right). Then copy that string above and paste it into the 'plotly_vars.json' file. (Replace the original contents of 'plotly_vars.json')\n",
    "\n",
    "Refresh your bl.ocks! (Edit the URL, replace 'gist.github.com' with 'bl.ocks.org')\n"
   ]
  },
  {
   "cell_type": "markdown",
   "metadata": {},
   "source": [
    "### Next Steps\n",
    "\n",
    "Optional: Add a thumbnail to your block. Create a .png image that is wider than it is tall, such as 400x250 (width x height), call it 'thumbnail.png' and place it in your Gist. (Don't make it too wide, such as 1200x800.) Easiest way to do this is to create screenshot, crop it, then resize it. \n",
    "\n",
    "Optional: That JSON above is not formatted to be as readable as the JSON we are replacing. But, your browser can format it for you! Open the JSON in your browser (you can drag and drop the JSON file into a browser window). If it is not formatted well you may need to install a plugin. Note: This is also a great way to validate your JSON. If there is an error in it then the browser will tell you!\n",
    "\n",
    "Optional: Make your README more descriptive. Consult this [Markdown Cheat Sheet](https://github.com/adam-p/markdown-here/wiki/Markdown-Cheatsheet) and explain where you got the data and how you transformed it. \n",
    "\n",
    "Optional: We \"hardcoded\" (programmer speak) this notebook to use January. At the top, make a new variable 'display_month' and set it to 'January' -- Then replace all other instances of 'January' with your variable and make sure the code works. Then try changing the month. (Note: Not all months are represented in this data, and you will need to make sure your data is both complete and consistant. We determined our January data is complete because we have 11 observations from each year, and determined it is consistant because each observation has a different unit number.) Bonus: Edit the chart title to display the month you set in 'display_month'"
   ]
  },
  {
   "cell_type": "markdown",
   "metadata": {},
   "source": [
    "### Thank you!\n",
    "Thanks for going through this tutorial! If you have any questions, find me on the Open Data Delaware Slack."
   ]
  },
  {
   "cell_type": "code",
   "execution_count": null,
   "metadata": {},
   "outputs": [],
   "source": []
  }
 ],
 "metadata": {
  "kernelspec": {
   "display_name": "Python 3",
   "language": "python",
   "name": "python3"
  },
  "language_info": {
   "codemirror_mode": {
    "name": "ipython",
    "version": 3
   },
   "file_extension": ".py",
   "mimetype": "text/x-python",
   "name": "python",
   "nbconvert_exporter": "python",
   "pygments_lexer": "ipython3",
   "version": "3.6.3"
  }
 },
 "nbformat": 4,
 "nbformat_minor": 2
}

{
 "cells": [
  {
   "cell_type": "markdown",
   "metadata": {},
   "source": [
    "Let's make that last visualization look nicer. We're still using the [Aerial Waterfowl Survey Data](https://data.delaware.gov/Energy-and-Environment/Aerial-Waterfowl-Survey-Data/bxyv-7mgn). \n"
   ]
  },
  {
   "cell_type": "code",
   "execution_count": null,
   "metadata": {},
   "outputs": [],
   "source": [
    "# Import our libraries\n",
    "import pandas as pd\n",
    "\n",
    "import plotly.offline as offline\n",
    "import plotly.graph_objs as go\n",
    "\n",
    "offline.init_notebook_mode()\n"
   ]
  },
  {
   "cell_type": "code",
   "execution_count": null,
   "metadata": {},
   "outputs": [],
   "source": [
    "# Run the transformations from before to make sure everyone is \n",
    "# at the same place.\n",
    "url = \"https://data.delaware.gov/api/views/bxyv-7mgn/rows.csv?accessType=DOWNLOAD\"\n",
    "waterfowl_df = pd.read_csv(url)\n",
    "waterfowl_df_january = waterfowl_df[waterfowl_df['Month']=='January']\n",
    "waterfowl_df_january_sub = waterfowl_df_january[waterfowl_df_january['Time Period']!='Late']\n",
    "\n",
    "waterfowl_df_january_sub_by_year = waterfowl_df_january_sub.groupby('Year').sum()\n",
    "\n",
    "years = [str(year) for year in waterfowl_df_january_sub_by_year.index]\n"
   ]
  },
  {
   "cell_type": "code",
   "execution_count": null,
   "metadata": {
    "scrolled": false
   },
   "outputs": [],
   "source": [
    "# Now let's plot the top three.\n",
    "# This is just like in the last chart, but options to go.Scatter each have their own line\n",
    "\n",
    "bird_names = ['Canada Goose', 'American Black Duck', 'Mallard']\n",
    "\n",
    "data = []\n",
    "\n",
    "for bird_name in bird_names:\n",
    "    \n",
    "    single_bird = waterfowl_df_january_sub[['Year', bird_name]].groupby('Year').sum()\n",
    "\n",
    "    bird_counts = [int(total) for total in single_bird[bird_name]]\n",
    "    \n",
    "    # Cheat and re-usse the years variable from before\n",
    "    data.append(\n",
    "        go.Scatter(\n",
    "            x=years, \n",
    "            y=bird_counts, \n",
    "            mode=\"markers+lines\", \n",
    "            name=bird_name\n",
    "        )\n",
    "    )\n",
    "\n",
    "layout=go.Layout(title=\"Top three birds\", xaxis={'title':'Year'}, yaxis={'title':'Number counted'})\n",
    "\n",
    "figure=go.Figure(data=data,layout=layout)\n",
    "\n",
    "offline.iplot(figure, filename='top_three')"
   ]
  },
  {
   "cell_type": "markdown",
   "metadata": {},
   "source": [
    "Before diving into Plotly's documentation, is there anything in the block above that you want to edit and test?\n",
    "\n",
    "How can you make the Title more descriptive? \n",
    "\n",
    "How can you edit the order of the birds in the legend on the right of the graph?\n",
    "\n",
    "Notice how mode is set to \"markers+lines\"? What happens if you make it just \"markers\" or \"lines\"?\n",
    "\n",
    "How would you change the hover text? Seeing \"123.431K\" looks weird (Canada Goose, 2001)\n",
    "\n"
   ]
  },
  {
   "cell_type": "markdown",
   "metadata": {},
   "source": [
    "To see what options there are to make Plotly look nicer, checkout [the documentation for Scatter](https://plot.ly/python/line-and-scatter/). \n",
    "\n",
    "\"Style\" is inherently subjective, but to get a feel for best practices consult a style guide. Personally I like the [Sunlight Foundation's](https://github.com/amycesal/dataviz-style-guide/blob/master/Sunlight-StyleGuide-DataViz.pdf), but it's a PDF. This one by the [Uban Institute](http://urbaninstitute.github.io/graphics-styleguide/) is a good one to read in a browser.\n",
    "\n",
    "Note: We're jumping ahead to just the variables for Scatter. To get a general overview of ploty, read the [user guide](https://plot.ly/python/user-guide/).\n",
    "\n",
    "Click on the \"+\" sign, then copy and paste the charting code. Make some edits and play around with it!"
   ]
  },
  {
   "cell_type": "code",
   "execution_count": null,
   "metadata": {},
   "outputs": [],
   "source": [
    "# Here's what I made\n",
    "# I changed the hover text to be more descriptive\n",
    "# The title is programatically changed to be show the bird names from the list, as well as the year range\n",
    "\n",
    "\n",
    "# Try shape options: \"linear\" | \"spline\" | \"hv\" | \"vh\" | \"hvh\" | \"vhv\"\n",
    "\n",
    "bird_names = ['Canada Goose', 'American Black Duck', 'Mallard']\n",
    "\n",
    "data = []\n",
    "\n",
    "for bird_name in bird_names:\n",
    "    \n",
    "    single_bird = waterfowl_df_january_sub[['Year', bird_name]].groupby('Year').sum()\n",
    "\n",
    "    bird_counts = [int(total) for total in single_bird[bird_name]]\n",
    "    \n",
    "    # Cheat and re-usse the years variable from before\n",
    "    data.append(\n",
    "        go.Scatter(\n",
    "            x=years, \n",
    "            y=bird_counts, \n",
    "            mode=\"markers+lines\", \n",
    "            name=bird_name,\n",
    "            hoverinfo=\"text\",\n",
    "            hovertext=['{:,} {} in {}'.format(bird_counts[i], bird_name, years[i]) for i in range(len(bird_counts))],\n",
    "            line={'shape':'spline', 'smoothing':0.5, 'width':3}, # try adding , 'smoothing':0.5, 'width':3\n",
    "            marker={'size': 6, 'opacity': .7}\n",
    "        )\n",
    "    )\n",
    "\n",
    "layout=go.Layout(\n",
    "    title='{} from {} to {}'.format(', '.join(bird_names), years[0], years[-1]), \n",
    "    xaxis={'title':'Year'}, \n",
    "    yaxis={'title':'Number counted'}\n",
    ")\n",
    "\n",
    "figure=go.Figure(data=data,layout=layout)\n",
    "\n",
    "offline.iplot(figure, filename='top_three')"
   ]
  },
  {
   "cell_type": "code",
   "execution_count": null,
   "metadata": {},
   "outputs": [],
   "source": []
  }
 ],
 "metadata": {
  "kernelspec": {
   "display_name": "Python 3",
   "language": "python",
   "name": "python3"
  },
  "language_info": {
   "codemirror_mode": {
    "name": "ipython",
    "version": 3
   },
   "file_extension": ".py",
   "mimetype": "text/x-python",
   "name": "python",
   "nbconvert_exporter": "python",
   "pygments_lexer": "ipython3",
   "version": "3.6.3"
  }
 },
 "nbformat": 4,
 "nbformat_minor": 2
}

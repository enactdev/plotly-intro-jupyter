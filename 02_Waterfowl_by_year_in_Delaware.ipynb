{
 "cells": [
  {
   "cell_type": "markdown",
   "metadata": {},
   "source": [
    "Time to create some visualizations with Plotly!. We're still using the [Aerial Waterfowl Survey Data](https://data.delaware.gov/Energy-and-Environment/Aerial-Waterfowl-Survey-Data/bxyv-7mgn). \n"
   ]
  },
  {
   "cell_type": "code",
   "execution_count": null,
   "metadata": {},
   "outputs": [],
   "source": [
    "# We're importing the Plotly libraries for the first time\n",
    "import pandas as pd\n",
    "\n",
    "import plotly.offline as offline\n",
    "import plotly.graph_objs as go"
   ]
  },
  {
   "cell_type": "code",
   "execution_count": null,
   "metadata": {},
   "outputs": [],
   "source": [
    "# Run this in offline mode\n",
    "offline.init_notebook_mode()\n",
    "\n",
    "# Make sure plotly is working\n",
    "offline.iplot({'data': [{'y': [4, 2, 3, 4]}], \n",
    "               'layout': {'title': 'Test Plot', \n",
    "                          'font': dict(size=16)}})"
   ]
  },
  {
   "cell_type": "code",
   "execution_count": null,
   "metadata": {},
   "outputs": [],
   "source": [
    "# Run the transformations from the the first (01) file to make sure everyone is \n",
    "# at the same place.\n",
    "url = \"https://data.delaware.gov/api/views/bxyv-7mgn/rows.csv?accessType=DOWNLOAD\"\n",
    "waterfowl_df = pd.read_csv(url)\n",
    "waterfowl_df_january = waterfowl_df[waterfowl_df['Month']=='January']\n",
    "waterfowl_df_january_sub = waterfowl_df_january[waterfowl_df_january['Time Period']!='Late']\n",
    "\n",
    "# Note: You can also use dot notation. For intance, this would have worked:\n",
    "#waterfowl_df_january = waterfowl_df[waterfowl_df.Month=='January']\n",
    "# BUT, dot notation does not work for 'Time Period' because of the space in the column name!"
   ]
  },
  {
   "cell_type": "code",
   "execution_count": null,
   "metadata": {},
   "outputs": [],
   "source": [
    "# Once again, look at the first few rows of data.\n",
    "waterfowl_df_january_sub.head()"
   ]
  },
  {
   "cell_type": "code",
   "execution_count": null,
   "metadata": {},
   "outputs": [],
   "source": [
    "# Look at the last few rows:\n",
    "waterfowl_df_january_sub.tail()"
   ]
  },
  {
   "cell_type": "code",
   "execution_count": null,
   "metadata": {},
   "outputs": [],
   "source": [
    "# Take a look at the index (far left) column. \n",
    "# Note how it maintains the same index numbers as the full data set!\n",
    "\n",
    "# Pandas has a handy describe() function\n",
    "# count tells the number of values that column has (some columns can be NaN (Not a Number))\n",
    "# Look at the mean, median (50%) and max\n",
    "waterfowl_df_january_sub.describe()"
   ]
  },
  {
   "cell_type": "code",
   "execution_count": null,
   "metadata": {},
   "outputs": [],
   "source": [
    "# Check the sums again. Remember, this will be for january of each year\n",
    "waterfowl_df_january_sub.groupby('Year').sum().head()"
   ]
  },
  {
   "cell_type": "code",
   "execution_count": null,
   "metadata": {},
   "outputs": [],
   "source": [
    "# Let's look at just 1979\n",
    "waterfowl_df_january_sub[waterfowl_df_january_sub.Year==1979].groupby('Year').sum()"
   ]
  },
  {
   "cell_type": "code",
   "execution_count": null,
   "metadata": {},
   "outputs": [],
   "source": [
    "# Compare the above output to this one.\n",
    "waterfowl_df_january_sub.groupby('Year').sum()[4:5]"
   ]
  },
  {
   "cell_type": "code",
   "execution_count": null,
   "metadata": {},
   "outputs": [],
   "source": [
    "# ***** This cell requires you to fill something in! *****\n",
    "\n",
    "# Why do you think they are the same? (Hint: Look at the table that sums all years.)\n",
    "\n",
    "# The answer is that [4:5] is an example of slicing. This means start at 4 (where the first element is 0!) and \n",
    "# end before you get to 5. \n",
    "\n",
    "# Which do you think is eaiser to read?\n",
    "\n",
    "# Copy and paste your favorite of the two and assign to the variable below\n",
    "waterfowl_1979 = waterfowl_df_january_sub.groupby('Year').sum()[4:5]\n",
    "\n",
    "# Print the variable\n",
    "waterfowl_1979"
   ]
  },
  {
   "cell_type": "code",
   "execution_count": null,
   "metadata": {},
   "outputs": [],
   "source": [
    "# We need just the bird column names. First, print all\n",
    "waterfowl_1979.columns"
   ]
  },
  {
   "cell_type": "code",
   "execution_count": null,
   "metadata": {},
   "outputs": [],
   "source": [
    "# Why isn't 'Year' a column?\n",
    "# Remember the groupBy we used?\n",
    "\n",
    "# Check the dataframe's index:\n",
    "waterfowl_1979.index"
   ]
  },
  {
   "cell_type": "code",
   "execution_count": null,
   "metadata": {},
   "outputs": [],
   "source": [
    "# There's the year!\n",
    "\n",
    "# To get bird names we only need to skip the first column (remember 0 is first!)\n",
    "# Let's slice!\n",
    "# Note: If the second number is not given, it will continue to the end.\n",
    "birds = waterfowl_1979.columns[1:]\n",
    "\n",
    "# Explore the first bird in the list\n",
    "bird = birds[0]\n",
    "print('bird:', bird)\n",
    "print('full:', waterfowl_1979[bird])\n",
    "print('values (list):', waterfowl_1979[bird].values)\n",
    "print('first value in list:', waterfowl_1979[bird].values[0])\n",
    "print('Set as an integer:', int(waterfowl_1979[bird]))\n",
    "\n",
    "# There are multiple ways to get the number, I will be using: int(waterfowl_1979[bird])\n",
    "\n",
    "# The line that prints 'full' above is outputted on multipole lines below. This next line might be\n",
    "# easier for you to see the full record. Note the semicolon -- That means end the prevous instruction\n",
    "# and start a new instruciton. They are rare in Python, but permitted!\n",
    "#print('full:'); print(waterfowl_1979[birds[0]])"
   ]
  },
  {
   "cell_type": "code",
   "execution_count": null,
   "metadata": {},
   "outputs": [],
   "source": [
    "# Get the bird counts into a list\n",
    "# Use a comprehension!\n",
    "bird_counts = [int(waterfowl_1979[bird]) for bird in birds]\n",
    "\n",
    "\n",
    "\n",
    "\"\"\"\n",
    "# Long way:\n",
    "bird_counts = []\n",
    "for bird in birds:\n",
    "    bird_counts.append(int(waterfowl_1979[bird]))\n",
    "\"\"\"\n",
    "\n",
    "bird_counts\n"
   ]
  },
  {
   "cell_type": "markdown",
   "metadata": {},
   "source": [
    "### Note:\n",
    "You can learn more about comprehensions in the [Python Documentation](https://docs.python.org/3/tutorial/datastructures.html#list-comprehensions)"
   ]
  },
  {
   "cell_type": "code",
   "execution_count": null,
   "metadata": {},
   "outputs": [],
   "source": [
    "# Uh oh, no need to chart the birds that weren't counted\n",
    "\n",
    "# Only include birds that were counted!\n",
    "birds = [bird for bird in waterfowl_1979.columns[1:] if int(waterfowl_1979[bird]) > 0]\n",
    "\n",
    "bird_counts = [int(waterfowl_1979[bird]) for bird in birds]\n",
    "bird_counts\n"
   ]
  },
  {
   "cell_type": "code",
   "execution_count": null,
   "metadata": {},
   "outputs": [],
   "source": [
    "# The zip() function can be handy. It combines two lists of equal length into a list of tuples.\n",
    "z = zip(birds, bird_counts)\n",
    "\n",
    "for i in z:\n",
    "    print(i)"
   ]
  },
  {
   "cell_type": "code",
   "execution_count": null,
   "metadata": {},
   "outputs": [],
   "source": [
    "# Let's use Plotly to make a bar chart!\n",
    "\n",
    "data = [go.Bar(x=birds,\n",
    "            y=bird_counts)]\n",
    "\n",
    "offline.iplot(data)"
   ]
  },
  {
   "cell_type": "code",
   "execution_count": null,
   "metadata": {},
   "outputs": [],
   "source": [
    "# ***** This cell requires you to fill something in! *****\n",
    "\n",
    "# Still too many birds, and it would look better ordered.\n",
    "# First, return to our completion, edit below to get birds with at least 1000 views\n",
    "\n",
    "birds = [bird for bird in waterfowl_1979.columns[1:] if int(waterfowl_1979[bird]) > 1000]\n",
    "\n",
    "bird_counts = [int(waterfowl_1979[bird]) for bird in birds]\n",
    "bird_counts"
   ]
  },
  {
   "cell_type": "code",
   "execution_count": null,
   "metadata": {},
   "outputs": [],
   "source": [
    "# waterfowl_1979.columns[1:]\n",
    "#pd.__version__\n",
    "\n",
    "# Use zip to make a list of tuples\n",
    "bird_tuples = [tuple(i) for i in zip(birds, bird_counts)]\n",
    "bird_tuples"
   ]
  },
  {
   "cell_type": "code",
   "execution_count": null,
   "metadata": {},
   "outputs": [],
   "source": [
    "# Now sort!\n",
    "# This will look confusing for new programmers. The word 'lambda' basically means 'create an annonymous function'\n",
    "# Since counting starts at 0 in Python, returning tup[1] will return the count.\n",
    "# Lastly, 'tup' is simply the variable we create for the annonymous function. You could replace the two \n",
    "# instances of 'tup' with 'mytuple' and it would work the same!\n",
    "bird_tuples.sort(key=lambda tup: tup[1], reverse=True)\n",
    "\n",
    "\"\"\"\n",
    "This is a multi-line comment! Previously I was only using single line comments that begin with a hash.\n",
    "The single line above is the equivlant of this multi-line code block, where we define a function to \n",
    "return the second ([1]) element in a tuple, and pass the function name to the sort() method\n",
    "\n",
    "def return_second_tuple_element(mytuple):\n",
    "    return mytuple[1]\n",
    "    \n",
    "bird_tuples.sort(key=return_second_tuple_element, reverse=True)\n",
    "\"\"\"\n",
    "\n",
    "bird_tuples"
   ]
  },
  {
   "cell_type": "code",
   "execution_count": null,
   "metadata": {},
   "outputs": [],
   "source": [
    "# And try the graph again. This time, pay attention to the x and y values. Rather than saying that the \n",
    "# value of 'Canada Goose' is 47,677 and the value of 'Mallard' is 16,390, you assign the x values as a \n",
    "# list of bird names and the y values as a list of counts. Make sure they line up!\n",
    "\n",
    "data = [go.Bar(x=[b[0] for b in bird_tuples],\n",
    "            y=[b[1] for b in bird_tuples])]\n",
    "\n",
    "offline.iplot(data)"
   ]
  },
  {
   "cell_type": "code",
   "execution_count": null,
   "metadata": {},
   "outputs": [],
   "source": [
    "# Let's make it a horizontal bar chart. Don't forget to swap the x and y values!\n",
    "# We also need to reverse the list.\n",
    "# Note that the reverse() method alters the list! If you run this cell multiple times, the order of \n",
    "# the horizontal bar chart swaps between greatest-to-least and least-to-greatest!\n",
    "# More bar chart options: https://plot.ly/python/bar-charts/\n",
    "\n",
    "bird_tuples.reverse()\n",
    "\n",
    "data = [go.Bar(orientation='h', x=[b[1] for b in bird_tuples],\n",
    "             y=[b[0] for b in bird_tuples])]\n",
    "\n",
    "offline.iplot(data)"
   ]
  },
  {
   "cell_type": "code",
   "execution_count": null,
   "metadata": {},
   "outputs": [],
   "source": [
    "# Now let's chart the population of a bird over the years. First, let's create a dataframe\n",
    "# of sums by year, similar to what we did for just 1979\n",
    "waterfowl_df_january_sub_by_year = waterfowl_df_january_sub.groupby('Year').sum()\n",
    "\n",
    "waterfowl_df_january_sub_by_year.head()"
   ]
  },
  {
   "cell_type": "code",
   "execution_count": null,
   "metadata": {},
   "outputs": [],
   "source": [
    "# Let's chart just 'Canada Goose'\n",
    "bird_name = 'Canada Goose'\n",
    "\n",
    "# You could use the line below if you wanted to chart 'Mallard'\n",
    "#bird_name = 'Mallard'\n",
    "\n",
    "single_bird = waterfowl_df_january_sub_by_year[bird_name]\n",
    "\n",
    "single_bird.head()"
   ]
  },
  {
   "cell_type": "code",
   "execution_count": null,
   "metadata": {
    "scrolled": true
   },
   "outputs": [],
   "source": [
    "# Some more data exploring\n",
    "\n",
    "print(single_bird.index)\n",
    "print('first:', single_bird.index[0])"
   ]
  },
  {
   "cell_type": "code",
   "execution_count": null,
   "metadata": {},
   "outputs": [],
   "source": [
    "#single_bird[bird_name]\n",
    "\n",
    "years = [str(year) for year in single_bird.index]\n",
    "years\n",
    "    "
   ]
  },
  {
   "cell_type": "code",
   "execution_count": null,
   "metadata": {},
   "outputs": [],
   "source": [
    "# \n",
    "\n",
    "bird_counts = [int(total) for total in single_bird]\n",
    "bird_counts"
   ]
  },
  {
   "cell_type": "code",
   "execution_count": null,
   "metadata": {},
   "outputs": [],
   "source": [
    "# Make a line chart (scatter)\n",
    "\n",
    "trace1 = go.Scatter(x=years, y=bird_counts, mode=\"markers+lines\")\n",
    "                                               \n",
    "data=go.Data([trace1])\n",
    "\n",
    "layout=go.Layout(title=\"First Plot\", xaxis={'title':'Year'}, yaxis={'title':bird_name})\n",
    "\n",
    "figure=go.Figure(data=data,layout=layout)\n",
    "\n",
    "offline.iplot(figure, filename='pyguide_1')\n"
   ]
  },
  {
   "cell_type": "code",
   "execution_count": null,
   "metadata": {},
   "outputs": [],
   "source": [
    "# Now let's chart multiple birds!\n",
    "\n",
    "# Plot the top three\n",
    "\n",
    "bird_names = ['Canada Goose', 'American Black Duck', 'Mallard']\n",
    "\n",
    "data = []\n",
    "\n",
    "for bird_name in bird_names:\n",
    "    \n",
    "    single_bird = waterfowl_df_january_sub[['Year', bird_name]].groupby('Year').sum()\n",
    "\n",
    "    bird_counts = [int(total) for total in single_bird[bird_name]]\n",
    "    \n",
    "    # Cheat and re-usse the years variable from before\n",
    "    data.append(go.Scatter(x=years, y=bird_counts, mode=\"markers+lines\", name=bird_name))\n",
    "\n",
    "layout=go.Layout(title=\"Top three birds\", xaxis={'title':'Year'}, yaxis={'title':'Number counted'})\n",
    "\n",
    "figure=go.Figure(data=data,layout=layout)\n",
    "\n",
    "offline.iplot(figure, filename='top_three')"
   ]
  },
  {
   "cell_type": "markdown",
   "metadata": {},
   "source": [
    "### Done Part 2\n",
    "So far so good! In Part 3 you'll explore how to make the charts nicer!"
   ]
  },
  {
   "cell_type": "code",
   "execution_count": null,
   "metadata": {},
   "outputs": [],
   "source": []
  }
 ],
 "metadata": {
  "kernelspec": {
   "display_name": "Python 3",
   "language": "python",
   "name": "python3"
  },
  "language_info": {
   "codemirror_mode": {
    "name": "ipython",
    "version": 3
   },
   "file_extension": ".py",
   "mimetype": "text/x-python",
   "name": "python",
   "nbconvert_exporter": "python",
   "pygments_lexer": "ipython3",
   "version": "3.6.3"
  }
 },
 "nbformat": 4,
 "nbformat_minor": 2
}

{
 "cells": [
  {
   "cell_type": "markdown",
   "metadata": {},
   "source": [
    "Let's start with a brief introduction to Pandas before creating some graphs with Plotly. We'll explore a simple data set from the state of Delaware's Open Data portal. Specifically, we'll be using the [Aerial Waterfowl Survey Data](https://data.delaware.gov/Energy-and-Environment/Aerial-Waterfowl-Survey-Data/bxyv-7mgn). \n",
    "\n",
    "Tips for those new to Python:\n",
    "* lines starting with '#' are comments\n",
    "* Run the cells in order!\n",
    "\n",
    "If you want more information about Jupyter, checkout this [Quick Start Guide](https://jupyter-notebook-beginner-guide.readthedocs.io/en/latest/)"
   ]
  },
  {
   "cell_type": "code",
   "execution_count": null,
   "metadata": {},
   "outputs": [],
   "source": [
    "# Run this if you need to install the requirements (Prefixing with ! runs it as a shell command).\n",
    "# You do not need to run this in Azure, so it is commented out. But you should run it if you have\n",
    "# Jupyter running on your own computer.\n",
    "#!pip install -r requirements.txt"
   ]
  },
  {
   "cell_type": "code",
   "execution_count": null,
   "metadata": {},
   "outputs": [],
   "source": [
    "# Import the libraries we're using\n",
    "import pandas as pd"
   ]
  },
  {
   "cell_type": "code",
   "execution_count": null,
   "metadata": {},
   "outputs": [],
   "source": [
    "# Load the waterfowl data into a dataframe\n",
    "url = \"https://data.delaware.gov/api/views/bxyv-7mgn/rows.csv?accessType=DOWNLOAD\"\n",
    "waterfowl_df = pd.read_csv(url)"
   ]
  },
  {
   "cell_type": "code",
   "execution_count": null,
   "metadata": {},
   "outputs": [],
   "source": [
    "# Time to explore the data.\n",
    "\n",
    "# First, check the number of rows and columns against the data on the portal!\n",
    "waterfowl_df.shape"
   ]
  },
  {
   "cell_type": "code",
   "execution_count": null,
   "metadata": {},
   "outputs": [],
   "source": [
    "# As of February 10, 2018, we have 1942 rows and 36 columns. If you do this later, you may have more than 1942 rows.\n",
    "# Check your output against the open data portal!\n",
    "\n",
    "# Now look at the column types\n",
    "waterfowl_df.dtypes"
   ]
  },
  {
   "cell_type": "code",
   "execution_count": null,
   "metadata": {},
   "outputs": [],
   "source": [
    "# Weird that Mergansers is a float. That's something you would explore if you wanted to chart that bird.\n",
    "\n",
    "# Look at the first few rows of data. Compare to the data on the data portal!\n",
    "waterfowl_df.head()"
   ]
  },
  {
   "cell_type": "code",
   "execution_count": null,
   "metadata": {
    "scrolled": true
   },
   "outputs": [],
   "source": [
    "# Look at the last few rows:\n",
    "\n",
    "\n",
    "\n",
    "waterfowl_df.tail()"
   ]
  },
  {
   "cell_type": "markdown",
   "metadata": {},
   "source": [
    "## Note\n",
    "\n",
    "Looking at the head and tail, you can see that far left is an unnamed column that starts at 0 and ends at 1941 (as of Feb. 10, 2018!). That is the index, and it lets you access a single row very quickly.\n",
    "\n",
    "Many programming languages start counting at 0 rather than 1. But if you were to do this in the R programming language, it would start with 1. Likewise, if you import this into a database the first row would also be 1. But this is Python, and Python starts at 0."
   ]
  },
  {
   "cell_type": "code",
   "execution_count": null,
   "metadata": {},
   "outputs": [],
   "source": [
    "# Pandas has a handy describe() function\n",
    "# count tells the number of values that column has (some columns can be NaN (Not a Number))\n",
    "# Look at the mean, median (50%) and max\n",
    "waterfowl_df.describe()"
   ]
  },
  {
   "cell_type": "code",
   "execution_count": null,
   "metadata": {},
   "outputs": [],
   "source": [
    "# Let's sum all the columns to select what birds we want\n",
    "waterfowl_df.sum()"
   ]
  },
  {
   "cell_type": "code",
   "execution_count": null,
   "metadata": {},
   "outputs": [],
   "source": [
    "# Let's look at the number of rows for each year\n",
    "waterfowl_df.groupby('Year').count()"
   ]
  },
  {
   "cell_type": "code",
   "execution_count": null,
   "metadata": {},
   "outputs": [],
   "source": [
    "# ***** This cell requires you to fill something in! *****\n",
    "\n",
    "# Copy the previous command, and paste it below.\n",
    "# Before running, edit it to get the sum by year.\n",
    "# This is an example of \"method chaining,\" and it's part of the power of Pandas!\n"
   ]
  },
  {
   "cell_type": "code",
   "execution_count": null,
   "metadata": {},
   "outputs": [],
   "source": [
    "# Going back to the .count() example, most years have 44 rows, but there are discrepencies!\n",
    "\n",
    "# Let's look at the counts of January in each year\n",
    "waterfowl_df_january = waterfowl_df[waterfowl_df['Month']=='January']\n",
    "waterfowl_df_january.groupby('Year').count()"
   ]
  },
  {
   "cell_type": "code",
   "execution_count": null,
   "metadata": {
    "scrolled": true
   },
   "outputs": [],
   "source": [
    "# In 2010 and before the number of observations in January was 11.\n",
    "# Since 2011 it has 14. Let's look at 2010 and 2011 (ignore the warning if you see one)\n",
    "waterfowl_df_january[waterfowl_df['Year'].isin([2010, 2011])]"
   ]
  },
  {
   "cell_type": "code",
   "execution_count": null,
   "metadata": {},
   "outputs": [],
   "source": [
    "# ***** This cell requires you to fill something in! *****\n",
    "\n",
    "# 2011 has three observations with the timeperiod set to 'Late'\n",
    "# Remove observations where the timeperiod = 'Late' \n",
    "# (in otherwords, keep the observations where the time period does not equal (!=) 'Late')\n",
    "waterfowl_df_january_sub = waterfowl_df_january[waterfowl_df_january['Time Period']!='REPLACE_ME']\n",
    "\n",
    "# Finish the previous line, then we'll check the counts again\n",
    "waterfowl_df_january_sub.groupby('Year').count()"
   ]
  },
  {
   "cell_type": "code",
   "execution_count": null,
   "metadata": {},
   "outputs": [],
   "source": [
    "# We have 11 observations for each year! So far so good.\n",
    "# Note: You'll see that 'Time Period' is 0 through 2010. That is because it is not set until 2010, and the\n",
    "# .count() method only counts values that are set!\n",
    "\n",
    "# In 2011 Delaware started counting some areas multiple times, but we only want to look at a single observation\n",
    "# for each area ('Unit' in the data) for January of each year.\n",
    "\n",
    "# Let's check unit counts\n",
    "waterfowl_df_january_sub.groupby('Unit').count()"
   ]
  },
  {
   "cell_type": "markdown",
   "metadata": {},
   "source": [
    "### Done Part 1\n",
    "We already knew we had 11 observations for each year. Now we see that each unit number, 1-11, has 44 records. That is one for each year!\n",
    "\n",
    "So it is save to say that every year has a single observation for each of the 11 Units. I think we now have data we can safely compare year after year, do you agree?\n",
    "\n",
    "Note: In the cell above, you'll see the far left column, the index column, has a label of 'Unit.' That is because we grouped by Unit! If you scroll further up, you'll see when we grouped by 'Year' that the index has a label of 'Year.'\n",
    "\n",
    "#### Continue on to the second notebook!"
   ]
  },
  {
   "cell_type": "code",
   "execution_count": null,
   "metadata": {},
   "outputs": [],
   "source": []
  }
 ],
 "metadata": {
  "kernelspec": {
   "display_name": "Python 3",
   "language": "python",
   "name": "python3"
  },
  "language_info": {
   "codemirror_mode": {
    "name": "ipython",
    "version": 3
   },
   "file_extension": ".py",
   "mimetype": "text/x-python",
   "name": "python",
   "nbconvert_exporter": "python",
   "pygments_lexer": "ipython3",
   "version": "3.6.3"
  }
 },
 "nbformat": 4,
 "nbformat_minor": 2
}

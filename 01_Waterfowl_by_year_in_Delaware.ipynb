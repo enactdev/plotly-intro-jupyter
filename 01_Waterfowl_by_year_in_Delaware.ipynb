{
 "cells": [
  {
   "cell_type": "markdown",
   "metadata": {},
   "source": [
    "Let's start with a brief introduction to Pandas before creating some graphs with Plotly. We'll explore a simple data set from the state of Delaware's Open Data portal. Specifically, we'll be using the [Aerial Waterfowl Survey Data](https://data.delaware.gov/Energy-and-Environment/Aerial-Waterfowl-Survey-Data/bxyv-7mgn). \n",
    "\n",
    "Tips for those new to Python:\n",
    "* lines starting with '#' are comments\n",
    "* Run the cells in order!"
   ]
  },
  {
   "cell_type": "code",
   "execution_count": null,
   "metadata": {},
   "outputs": [],
   "source": [
    "# Run this if you need to install the requirements (Prefixing with ! runs it as a shell command).\n",
    "#!pip install -r requirements.txt"
   ]
  },
  {
   "cell_type": "code",
   "execution_count": null,
   "metadata": {},
   "outputs": [],
   "source": [
    "# Import the libraries we're using\n",
    "import pandas as pd"
   ]
  },
  {
   "cell_type": "code",
   "execution_count": null,
   "metadata": {},
   "outputs": [],
   "source": [
    "# Load the waterfowl data into a dataframe\n",
    "url = \"https://data.delaware.gov/api/views/bxyv-7mgn/rows.csv?accessType=DOWNLOAD\"\n",
    "waterfowl_df = pd.read_csv(url)"
   ]
  },
  {
   "cell_type": "code",
   "execution_count": null,
   "metadata": {},
   "outputs": [],
   "source": [
    "# Check the number of rows and columns against the data on the portal!\n",
    "print(len(waterfowl_df), len(waterfowl_df.columns))"
   ]
  },
  {
   "cell_type": "code",
   "execution_count": null,
   "metadata": {},
   "outputs": [],
   "source": [
    "# Look at the first few rows of data. Compare to the data on the data portal!\n",
    "waterfowl_df.head()"
   ]
  },
  {
   "cell_type": "code",
   "execution_count": null,
   "metadata": {
    "scrolled": true
   },
   "outputs": [],
   "source": [
    "# Look at the last few rows:\n",
    "waterfowl_df.tail()"
   ]
  },
  {
   "cell_type": "code",
   "execution_count": null,
   "metadata": {},
   "outputs": [],
   "source": [
    "# Pandas has a handy describe() function\n",
    "# count tells the number of values that column has (some columns can be NaN (Not a Number))\n",
    "# Look at the mean, median (50%) and max\n",
    "waterfowl_df.describe()"
   ]
  },
  {
   "cell_type": "code",
   "execution_count": null,
   "metadata": {},
   "outputs": [],
   "source": [
    "# Let's sum all the columns to select what birds we want\n",
    "waterfowl_df.sum()"
   ]
  },
  {
   "cell_type": "code",
   "execution_count": null,
   "metadata": {},
   "outputs": [],
   "source": [
    "# Let's look at the number of rows for each year\n",
    "waterfowl_df.groupby('Year').count()"
   ]
  },
  {
   "cell_type": "code",
   "execution_count": null,
   "metadata": {},
   "outputs": [],
   "source": [
    "# ***********************\n",
    "\n",
    "# Copy the previous command, and paste it below.\n",
    "# Before running, edit it to get the sum by year\n"
   ]
  },
  {
   "cell_type": "code",
   "execution_count": null,
   "metadata": {},
   "outputs": [],
   "source": [
    "# Most have 44 rows, but definitley some discrepency. \n",
    "# Let's look at the counts of January in each year\n",
    "waterfowl_df_january = waterfowl_df[waterfowl_df['Month']=='January']\n",
    "waterfowl_df_january.groupby('Year').count()"
   ]
  },
  {
   "cell_type": "code",
   "execution_count": null,
   "metadata": {
    "scrolled": true
   },
   "outputs": [],
   "source": [
    "# In 2010 and before the number of observations in January was 11.\n",
    "# Since 2011 it has 14. Let's look at 2010 and 2011\n",
    "waterfowl_df_january[waterfowl_df['Year'].isin([2010, 2011])]"
   ]
  },
  {
   "cell_type": "code",
   "execution_count": null,
   "metadata": {},
   "outputs": [],
   "source": [
    "# ***********************\n",
    "\n",
    "# 2011 has three observations with the timeperiod set to 'Late'\n",
    "# Remove observations where the timeperiod = 'Late' \n",
    "# (in otherwords, keep the observations where the time period does not (!=) equal 'Late')\n",
    "waterfowl_df_january_sub = waterfowl_df_january[waterfowl_df_january['Time Period']!='Late']\n",
    "\n",
    "# Finish the next line, then we'll check the counts again\n",
    "waterfowl_df_january_sub.groupby('Year').count()"
   ]
  },
  {
   "cell_type": "code",
   "execution_count": null,
   "metadata": {},
   "outputs": [],
   "source": [
    "# Let's check unit counts\n",
    "waterfowl_df_january_sub.groupby('Unit').count()"
   ]
  },
  {
   "cell_type": "markdown",
   "metadata": {},
   "source": [
    "### Done Part 1\n",
    "We now have 11 observations for each year, and each of the 11 observations has a different unit number. I think we now have data we can safely compare year after year"
   ]
  },
  {
   "cell_type": "code",
   "execution_count": null,
   "metadata": {},
   "outputs": [],
   "source": []
  }
 ],
 "metadata": {
  "kernelspec": {
   "display_name": "Python 3",
   "language": "python",
   "name": "python3"
  },
  "language_info": {
   "codemirror_mode": {
    "name": "ipython",
    "version": 3
   },
   "file_extension": ".py",
   "mimetype": "text/x-python",
   "name": "python",
   "nbconvert_exporter": "python",
   "pygments_lexer": "ipython3",
   "version": "3.6.3"
  }
 },
 "nbformat": 4,
 "nbformat_minor": 2
}
